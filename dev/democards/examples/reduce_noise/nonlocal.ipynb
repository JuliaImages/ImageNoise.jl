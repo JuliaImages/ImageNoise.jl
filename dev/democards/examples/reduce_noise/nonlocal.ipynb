{
 "cells": [
  {
   "outputs": [
    {
     "output_type": "execute_result",
     "data": {
      "text/plain": "30.501356f0"
     },
     "metadata": {},
     "execution_count": 1
    }
   ],
   "cell_type": "code",
   "source": [
    "using ImageNoise, TestImages, ImageShow, ImageCore, ImageQualityIndexes\n",
    "\n",
    "\n",
    "gray_img = testimage(\"cameraman\") .|> float32\n",
    "n = AdditiveWhiteGaussianNoise(0.1)\n",
    "noisy_img = apply_noise(gray_img, n)\n",
    "\n",
    "f_nlmean = NonlocalMean(0.1)\n",
    "denoised_img = reduce_noise(noisy_img, f_nlmean)\n",
    "\n",
    "[gray_img noisy_img denoised_img]\n",
    "psnr(gray_img, denoised_img)"
   ],
   "metadata": {},
   "execution_count": 1
  },
  {
   "outputs": [],
   "cell_type": "markdown",
   "source": [
    "---\n",
    "\n",
    "*This notebook was generated using [Literate.jl](https://github.com/fredrikekre/Literate.jl).*"
   ],
   "metadata": {}
  }
 ],
 "nbformat_minor": 3,
 "metadata": {
  "language_info": {
   "file_extension": ".jl",
   "mimetype": "application/julia",
   "name": "julia",
   "version": "1.0.5"
  },
  "kernelspec": {
   "name": "julia-1.0",
   "display_name": "Julia 1.0.5",
   "language": "julia"
  }
 },
 "nbformat": 4
}
